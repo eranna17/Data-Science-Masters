{
 "cells": [
  {
   "cell_type": "markdown",
   "id": "8ac6db81-72aa-42d6-bd49-c58f2fb109c8",
   "metadata": {},
   "source": [
    "### Q1. Create a Pandas Series that contains the following data: 4, 8, 15, 16, 23, and 42. Then, print the series.\n"
   ]
  },
  {
   "cell_type": "code",
   "execution_count": 7,
   "id": "200ed7d4-8116-454d-bb2b-4d076c0e361c",
   "metadata": {},
   "outputs": [
    {
     "name": "stdout",
     "output_type": "stream",
     "text": [
      "0     4\n",
      "1     8\n",
      "2    15\n",
      "3    16\n",
      "4    23\n",
      "5    42\n",
      "dtype: int64\n"
     ]
    }
   ],
   "source": [
    "import pandas as pd\n",
    "data = [4,8,15,16,23,42]\n",
    "data_series=pd.Series(data)\n",
    "print(data_series)"
   ]
  },
  {
   "cell_type": "code",
   "execution_count": null,
   "id": "ac0a01ae-1ba2-4762-93bc-254dfe64ce8a",
   "metadata": {},
   "outputs": [],
   "source": []
  },
  {
   "cell_type": "markdown",
   "id": "f6be8b70-c74c-4be5-af9b-b13b7f81cebb",
   "metadata": {},
   "source": [
    "### Q2. Create a variable of list type containing 10 elements in it, and apply pandas.Series function on the variable print it."
   ]
  },
  {
   "cell_type": "code",
   "execution_count": 6,
   "id": "f071acf9-b0c3-4253-ada8-600d7d6cb308",
   "metadata": {},
   "outputs": [
    {
     "name": "stdout",
     "output_type": "stream",
     "text": [
      "0     1\n",
      "1     2\n",
      "2     3\n",
      "3     4\n",
      "4     5\n",
      "5     6\n",
      "6     7\n",
      "7     8\n",
      "8     9\n",
      "9    10\n",
      "dtype: int64\n"
     ]
    }
   ],
   "source": [
    "lst = [1,2,3,4,5,6,7,8,9,10]\n",
    "lst_series = pd.Series(lst)\n",
    "print(lst_series)"
   ]
  },
  {
   "cell_type": "code",
   "execution_count": null,
   "id": "dd6bc513-7be4-447b-886d-874ed0b07fb5",
   "metadata": {},
   "outputs": [],
   "source": []
  },
  {
   "cell_type": "markdown",
   "id": "8da88cb2-b368-49fb-b423-92758cfe1790",
   "metadata": {},
   "source": [
    "### Q3. Create a Pandas DataFrame that contains the following data:\n",
    "'Name':'Alice','Bob','Claire' \n",
    "'Age':25,30,27\n",
    "'Gender':'Female','Male','Female'\n",
    " Then, print the DataFrame."
   ]
  },
  {
   "cell_type": "code",
   "execution_count": 11,
   "id": "13ef6786-b56b-49ed-8974-9995fb7995b7",
   "metadata": {},
   "outputs": [
    {
     "name": "stdout",
     "output_type": "stream",
     "text": [
      "     Name  Age  Gender\n",
      "0   Alice   25  Female\n",
      "1     Bob   30    Male\n",
      "2  Claire   27  Female\n"
     ]
    }
   ],
   "source": [
    "data = {'Name':['Alice','Bob','Claire'], \n",
    "       'Age':[25,30,27],\n",
    "       'Gender': ['Female','Male','Female']}\n",
    "\n",
    "data_var = pd.DataFrame(data)\n",
    "print(data_var)"
   ]
  },
  {
   "cell_type": "code",
   "execution_count": null,
   "id": "8e4abe13-a148-4db2-96e9-5510a9a717e7",
   "metadata": {},
   "outputs": [],
   "source": []
  },
  {
   "cell_type": "markdown",
   "id": "0ec0f29b-f751-40bd-a8d6-fb98dd3c20a0",
   "metadata": {},
   "source": [
    "### Q4. What is ‘DataFrame’ in pandas and how is it different from pandas.series? Explain with an example."
   ]
  },
  {
   "cell_type": "markdown",
   "id": "aea90e3b-6aa9-483d-b61f-0cdcccbf0c03",
   "metadata": {},
   "source": [
    "In pandas, a Dataframe is a two-dimentional tabular data structure with labeled rows and columns.\n",
    "it can be thought of as a collection of Pandas Series objects , where each column of the DataFrame is a seperate Series.\n",
    "On the other hand , a Pandas Series is a one - dimentional array - like that can hold any data type, such as integers, floats, strings, and even other objects.\n",
    "it has an index that labels each element of the series"
   ]
  },
  {
   "cell_type": "code",
   "execution_count": 24,
   "id": "b136b7c5-1c25-4981-ad65-b7e932ea4933",
   "metadata": {},
   "outputs": [
    {
     "name": "stdout",
     "output_type": "stream",
     "text": [
      "Series:\n",
      "0    5\n",
      "1    6\n",
      "2    7\n",
      "3    8\n",
      "4    9\n",
      "Name: my_series, dtype: int64\n",
      "\n",
      "DataFrame:\n",
      "   num alpha  series\n",
      "0    1     a       5\n",
      "1    2     b       6\n",
      "2    3     c       7\n",
      "3    4     d       8\n",
      "4    5     e       9\n"
     ]
    }
   ],
   "source": [
    "import pandas as pd\n",
    "\n",
    "# create a Pandas Series\n",
    "series = pd.Series([5,6,7,8,9], name='my_series')\n",
    "\n",
    "# Create a dataframe from the series\n",
    "df = pd.DataFrame({'num':[1,2,3,4,5],\n",
    "                  'alpha':['a','b','c','d','e'],\n",
    "                  'series':series})\n",
    "\n",
    "# print the Series and DataFrame\n",
    "print('Series:')\n",
    "print(series)\n",
    "print('\\nDataFrame:')\n",
    "print(df)"
   ]
  },
  {
   "cell_type": "code",
   "execution_count": null,
   "id": "fe5205cb-c2a4-4f41-b42d-07ec4b39904d",
   "metadata": {},
   "outputs": [],
   "source": []
  },
  {
   "cell_type": "markdown",
   "id": "5126591f-f85e-4805-95e0-c2bf9216e121",
   "metadata": {},
   "source": [
    "### Q5. What are some common functions you can use to manipulate data in a Pandas DataFrame? Can you give an example of when you might use one of these functions?"
   ]
  },
  {
   "cell_type": "code",
   "execution_count": 28,
   "id": "49ea3ef1-9497-4907-95b0-f01f75253cdf",
   "metadata": {},
   "outputs": [
    {
     "name": "stdout",
     "output_type": "stream",
     "text": [
      "  Name  Age            branch\n",
      "0  abc   20        Mechanical\n",
      "1  def   22             Civil\n",
      "2  ijk   24  Computer Science\n"
     ]
    }
   ],
   "source": [
    "data = {'Name':['abc', 'def', 'ijk'],\n",
    "       'Age':[20,22,24], \n",
    "       'branch':['Mechanical', 'Civil', 'Computer Science']}\n",
    "data_store = pd.DataFrame(data)\n",
    "print(data_store)"
   ]
  },
  {
   "cell_type": "code",
   "execution_count": 31,
   "id": "4a8964eb-c146-4e4e-a838-fc42c4d3aadc",
   "metadata": {},
   "outputs": [
    {
     "data": {
      "text/html": [
       "<div>\n",
       "<style scoped>\n",
       "    .dataframe tbody tr th:only-of-type {\n",
       "        vertical-align: middle;\n",
       "    }\n",
       "\n",
       "    .dataframe tbody tr th {\n",
       "        vertical-align: top;\n",
       "    }\n",
       "\n",
       "    .dataframe thead th {\n",
       "        text-align: right;\n",
       "    }\n",
       "</style>\n",
       "<table border=\"1\" class=\"dataframe\">\n",
       "  <thead>\n",
       "    <tr style=\"text-align: right;\">\n",
       "      <th></th>\n",
       "      <th>Name</th>\n",
       "      <th>Age</th>\n",
       "      <th>branch</th>\n",
       "    </tr>\n",
       "  </thead>\n",
       "  <tbody>\n",
       "    <tr>\n",
       "      <th>0</th>\n",
       "      <td>abc</td>\n",
       "      <td>20</td>\n",
       "      <td>Mechanical</td>\n",
       "    </tr>\n",
       "    <tr>\n",
       "      <th>1</th>\n",
       "      <td>def</td>\n",
       "      <td>22</td>\n",
       "      <td>Civil</td>\n",
       "    </tr>\n",
       "    <tr>\n",
       "      <th>2</th>\n",
       "      <td>ijk</td>\n",
       "      <td>24</td>\n",
       "      <td>Computer Science</td>\n",
       "    </tr>\n",
       "  </tbody>\n",
       "</table>\n",
       "</div>"
      ],
      "text/plain": [
       "  Name  Age            branch\n",
       "0  abc   20        Mechanical\n",
       "1  def   22             Civil\n",
       "2  ijk   24  Computer Science"
      ]
     },
     "execution_count": 31,
     "metadata": {},
     "output_type": "execute_result"
    }
   ],
   "source": [
    "data_store.head()"
   ]
  },
  {
   "cell_type": "code",
   "execution_count": 33,
   "id": "5337b82a-e9d8-4ca0-b234-3e45cabd0ee7",
   "metadata": {},
   "outputs": [
    {
     "data": {
      "text/html": [
       "<div>\n",
       "<style scoped>\n",
       "    .dataframe tbody tr th:only-of-type {\n",
       "        vertical-align: middle;\n",
       "    }\n",
       "\n",
       "    .dataframe tbody tr th {\n",
       "        vertical-align: top;\n",
       "    }\n",
       "\n",
       "    .dataframe thead th {\n",
       "        text-align: right;\n",
       "    }\n",
       "</style>\n",
       "<table border=\"1\" class=\"dataframe\">\n",
       "  <thead>\n",
       "    <tr style=\"text-align: right;\">\n",
       "      <th></th>\n",
       "      <th>Name</th>\n",
       "      <th>Age</th>\n",
       "      <th>branch</th>\n",
       "    </tr>\n",
       "  </thead>\n",
       "  <tbody>\n",
       "    <tr>\n",
       "      <th>0</th>\n",
       "      <td>abc</td>\n",
       "      <td>20</td>\n",
       "      <td>Mechanical</td>\n",
       "    </tr>\n",
       "    <tr>\n",
       "      <th>1</th>\n",
       "      <td>def</td>\n",
       "      <td>22</td>\n",
       "      <td>Civil</td>\n",
       "    </tr>\n",
       "    <tr>\n",
       "      <th>2</th>\n",
       "      <td>ijk</td>\n",
       "      <td>24</td>\n",
       "      <td>Computer Science</td>\n",
       "    </tr>\n",
       "  </tbody>\n",
       "</table>\n",
       "</div>"
      ],
      "text/plain": [
       "  Name  Age            branch\n",
       "0  abc   20        Mechanical\n",
       "1  def   22             Civil\n",
       "2  ijk   24  Computer Science"
      ]
     },
     "execution_count": 33,
     "metadata": {},
     "output_type": "execute_result"
    }
   ],
   "source": [
    "data_store.tail()"
   ]
  },
  {
   "cell_type": "code",
   "execution_count": 34,
   "id": "bc0af6fa-90b4-4794-bcc7-e0d2b17cbfed",
   "metadata": {},
   "outputs": [
    {
     "data": {
      "text/html": [
       "<div>\n",
       "<style scoped>\n",
       "    .dataframe tbody tr th:only-of-type {\n",
       "        vertical-align: middle;\n",
       "    }\n",
       "\n",
       "    .dataframe tbody tr th {\n",
       "        vertical-align: top;\n",
       "    }\n",
       "\n",
       "    .dataframe thead th {\n",
       "        text-align: right;\n",
       "    }\n",
       "</style>\n",
       "<table border=\"1\" class=\"dataframe\">\n",
       "  <thead>\n",
       "    <tr style=\"text-align: right;\">\n",
       "      <th></th>\n",
       "      <th>Age</th>\n",
       "    </tr>\n",
       "  </thead>\n",
       "  <tbody>\n",
       "    <tr>\n",
       "      <th>count</th>\n",
       "      <td>3.0</td>\n",
       "    </tr>\n",
       "    <tr>\n",
       "      <th>mean</th>\n",
       "      <td>22.0</td>\n",
       "    </tr>\n",
       "    <tr>\n",
       "      <th>std</th>\n",
       "      <td>2.0</td>\n",
       "    </tr>\n",
       "    <tr>\n",
       "      <th>min</th>\n",
       "      <td>20.0</td>\n",
       "    </tr>\n",
       "    <tr>\n",
       "      <th>25%</th>\n",
       "      <td>21.0</td>\n",
       "    </tr>\n",
       "    <tr>\n",
       "      <th>50%</th>\n",
       "      <td>22.0</td>\n",
       "    </tr>\n",
       "    <tr>\n",
       "      <th>75%</th>\n",
       "      <td>23.0</td>\n",
       "    </tr>\n",
       "    <tr>\n",
       "      <th>max</th>\n",
       "      <td>24.0</td>\n",
       "    </tr>\n",
       "  </tbody>\n",
       "</table>\n",
       "</div>"
      ],
      "text/plain": [
       "        Age\n",
       "count   3.0\n",
       "mean   22.0\n",
       "std     2.0\n",
       "min    20.0\n",
       "25%    21.0\n",
       "50%    22.0\n",
       "75%    23.0\n",
       "max    24.0"
      ]
     },
     "execution_count": 34,
     "metadata": {},
     "output_type": "execute_result"
    }
   ],
   "source": [
    "data_store.describe()"
   ]
  },
  {
   "cell_type": "code",
   "execution_count": 39,
   "id": "4fd182b1-cd28-43c7-88e8-3fe4f4d0a08c",
   "metadata": {},
   "outputs": [
    {
     "name": "stdout",
     "output_type": "stream",
     "text": [
      "<class 'pandas.core.frame.DataFrame'>\n",
      "RangeIndex: 3 entries, 0 to 2\n",
      "Data columns (total 3 columns):\n",
      " #   Column  Non-Null Count  Dtype \n",
      "---  ------  --------------  ----- \n",
      " 0   Name    3 non-null      object\n",
      " 1   Age     3 non-null      int64 \n",
      " 2   branch  3 non-null      object\n",
      "dtypes: int64(1), object(2)\n",
      "memory usage: 200.0+ bytes\n"
     ]
    }
   ],
   "source": [
    "data_store.info()"
   ]
  },
  {
   "cell_type": "code",
   "execution_count": 42,
   "id": "692f67e2-3cde-4320-b8a8-e2854390be2a",
   "metadata": {},
   "outputs": [
    {
     "data": {
      "text/plain": [
       "Index(['Name', 'Age', 'branch'], dtype='object')"
      ]
     },
     "execution_count": 42,
     "metadata": {},
     "output_type": "execute_result"
    }
   ],
   "source": [
    "data_store.columns"
   ]
  },
  {
   "cell_type": "code",
   "execution_count": 43,
   "id": "7027da6b-dda6-4b5a-836c-5a39183ca7b0",
   "metadata": {},
   "outputs": [
    {
     "data": {
      "text/plain": [
       "Name      object\n",
       "Age        int64\n",
       "branch    object\n",
       "dtype: object"
      ]
     },
     "execution_count": 43,
     "metadata": {},
     "output_type": "execute_result"
    }
   ],
   "source": [
    "data_store.dtypes"
   ]
  },
  {
   "cell_type": "code",
   "execution_count": 44,
   "id": "12851b6c-9477-4838-a082-be532a6764af",
   "metadata": {},
   "outputs": [
    {
     "data": {
      "text/html": [
       "<div>\n",
       "<style scoped>\n",
       "    .dataframe tbody tr th:only-of-type {\n",
       "        vertical-align: middle;\n",
       "    }\n",
       "\n",
       "    .dataframe tbody tr th {\n",
       "        vertical-align: top;\n",
       "    }\n",
       "\n",
       "    .dataframe thead th {\n",
       "        text-align: right;\n",
       "    }\n",
       "</style>\n",
       "<table border=\"1\" class=\"dataframe\">\n",
       "  <thead>\n",
       "    <tr style=\"text-align: right;\">\n",
       "      <th></th>\n",
       "      <th>Name</th>\n",
       "      <th>Age</th>\n",
       "    </tr>\n",
       "  </thead>\n",
       "  <tbody>\n",
       "    <tr>\n",
       "      <th>0</th>\n",
       "      <td>abc</td>\n",
       "      <td>20</td>\n",
       "    </tr>\n",
       "    <tr>\n",
       "      <th>1</th>\n",
       "      <td>def</td>\n",
       "      <td>22</td>\n",
       "    </tr>\n",
       "    <tr>\n",
       "      <th>2</th>\n",
       "      <td>ijk</td>\n",
       "      <td>24</td>\n",
       "    </tr>\n",
       "  </tbody>\n",
       "</table>\n",
       "</div>"
      ],
      "text/plain": [
       "  Name  Age\n",
       "0  abc   20\n",
       "1  def   22\n",
       "2  ijk   24"
      ]
     },
     "execution_count": 44,
     "metadata": {},
     "output_type": "execute_result"
    }
   ],
   "source": [
    "data_store[['Name','Age']]"
   ]
  },
  {
   "cell_type": "code",
   "execution_count": null,
   "id": "e1edd952-54fa-45ee-ac95-2d3bd93ed345",
   "metadata": {},
   "outputs": [],
   "source": []
  },
  {
   "cell_type": "markdown",
   "id": "7bb19bc1-c863-4729-bd16-65a692fe88c6",
   "metadata": {},
   "source": [
    "### Q6. Which of the following is mutable in nature Series, DataFrame, Panel?"
   ]
  },
  {
   "cell_type": "markdown",
   "id": "0ac4cd2d-28bb-40b1-b289-c48a24cefbaf",
   "metadata": {},
   "source": [
    "In Pandas, both Series and DataFrame are mutable in nature, meaning that their values can be changed after they have been created. Panel, on the other hand, is deprecated and has been replaced by the more versatile MultiIndex."
   ]
  },
  {
   "cell_type": "code",
   "execution_count": null,
   "id": "51e69d74-ae96-4150-bc4f-0837ed225076",
   "metadata": {},
   "outputs": [],
   "source": []
  },
  {
   "cell_type": "markdown",
   "id": "9f5c98a8-9967-4bb2-a784-a263fb2656e2",
   "metadata": {},
   "source": [
    "### Q7. Create a DataFrame using multiple Series. Explain with an example."
   ]
  },
  {
   "cell_type": "code",
   "execution_count": 45,
   "id": "68ebd228-a481-4450-a133-6c7716e59117",
   "metadata": {},
   "outputs": [
    {
     "name": "stdout",
     "output_type": "stream",
     "text": [
      "      Name  Age      City\n",
      "0    Alice   20  New York\n",
      "1      Bob   25    London\n",
      "2  Charlie   30       USA\n"
     ]
    }
   ],
   "source": [
    "# create a series\n",
    "name = pd.Series(['Alice','Bob', 'Charlie'])\n",
    "age = pd.Series([20,25,30])\n",
    "city = pd.Series(['New York', 'London', 'USA'])\n",
    "\n",
    "# create a dictionary of the series\n",
    "data ={'Name':name , 'Age':age , 'City':city}\n",
    "\n",
    "# create dataframe from the dictionary\n",
    "df= pd.DataFrame(data)\n",
    "# display the resulting DataFrame\n",
    "print(df)"
   ]
  },
  {
   "cell_type": "code",
   "execution_count": null,
   "id": "5541b8d4-58a3-4ec3-8d82-197e631f84ea",
   "metadata": {},
   "outputs": [],
   "source": []
  }
 ],
 "metadata": {
  "kernelspec": {
   "display_name": "Python 3 (ipykernel)",
   "language": "python",
   "name": "python3"
  },
  "language_info": {
   "codemirror_mode": {
    "name": "ipython",
    "version": 3
   },
   "file_extension": ".py",
   "mimetype": "text/x-python",
   "name": "python",
   "nbconvert_exporter": "python",
   "pygments_lexer": "ipython3",
   "version": "3.10.8"
  }
 },
 "nbformat": 4,
 "nbformat_minor": 5
}
