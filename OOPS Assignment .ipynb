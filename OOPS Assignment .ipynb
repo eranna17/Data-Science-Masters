{
 "cells": [
  {
   "cell_type": "markdown",
   "id": "8aa667a7-f397-4ce7-a0e6-9862b4543eea",
   "metadata": {},
   "source": [
    "### Q1. Explain Class and Object with respect to Object-Oriented Programming. Give a suitable example."
   ]
  },
  {
   "cell_type": "markdown",
   "id": "80a5b809-88a2-447d-aec1-596a80fdb73f",
   "metadata": {},
   "source": [
    "In object-oriented programming (OOP), \n",
    "A class is a blueprint or template that defines the properties and behaviors (methods) of a particular type of object. \n",
    "An object, on the other hand, is an instance of a class, created using the blueprint defined by the class.\n",
    "\n",
    "A class defines the attributes (data) and methods (functions) that describe the behavior of the objects it creates. The attributes are the characteristics that define the object, such as its name, age, or color. The methods are the actions that the object can perform, such as calculating its area, changing its color, or printing its name.\n",
    "\n",
    "For example, let's say we want to create a class called \"Person\" that represents a person. The Person class might have attributes such as name, age, and gender, and methods such as eat(), sleep(), and talk(). We can create objects of the Person class, such as \"John\" and \"Mary\", each with their own name, age, and gender, and each capable of performing the same methods. -->\n",
    "\n",
    "\n",
    "For example, let's say we want to create a class called \"Person\" that represents a person. The Person class might have attributes such as name, age, and gender, and methods such as eat(), sleep(), and talk(). We can create objects of the Person class, such as \"John\" and \"Mary\", each with their own name, age, and gender, and each capable of performing the same methods.\n",
    "\n",
    "Here's an example implementation of the Person class in Python:"
   ]
  },
  {
   "cell_type": "code",
   "execution_count": 6,
   "id": "7b6b4f65-31e6-458f-913e-45cba361c1c9",
   "metadata": {},
   "outputs": [
    {
     "name": "stdout",
     "output_type": "stream",
     "text": [
      "John\n",
      "30\n",
      "John  is talking\n",
      "Mary  is talking\n"
     ]
    }
   ],
   "source": [
    "class Person:\n",
    "    def __init__(self, name, age, mobile_no):\n",
    "        self.name = name \n",
    "        self.age =  age\n",
    "        self.mobile_name = mobile_no\n",
    "        \n",
    "    def eat(self):\n",
    "        print(self.name, \" is eating\")\n",
    "        \n",
    "    def sleep(self):\n",
    "        print(self.name, \" is sleeping\")\n",
    "        \n",
    "    def talk(self):\n",
    "        print(self.name, \" is talking\")\n",
    "        \n",
    "person1 = Person(\"John\", 25, 1234)\n",
    "person2 = Person(\"Mary\", 30, 4567)\n",
    "print(person1.name)\n",
    "print(person2.age)\n",
    "person1.talk()\n",
    "person2.talk()"
   ]
  },
  {
   "cell_type": "code",
   "execution_count": null,
   "id": "4a8c17c0-4768-4b6f-bc4e-3bcea8a0672d",
   "metadata": {},
   "outputs": [],
   "source": []
  },
  {
   "cell_type": "markdown",
   "id": "c65bc45d-8aaf-4eb6-b30a-5fa5a8323fd1",
   "metadata": {},
   "source": [
    "### Q2. Name the four pillars of OOPs. in python\n"
   ]
  },
  {
   "cell_type": "markdown",
   "id": "c69f144e-ec9f-4b93-a800-43328edcd062",
   "metadata": {},
   "source": [
    "1.Encapsulation: Encapsulation is the process of combining data and functions into a single unit called a class. In Python, encapsulation can be achieved by using access modifiers such as public, private, and protected.\n",
    "\n",
    "2.Inheritance: Inheritance is the process by which a class can inherit properties and methods from another class. In Python, inheritance is implemented using the 'class' keyword and the 'super()' function.\n",
    "\n",
    "3.Polymorphism: Polymorphism means the ability of objects to take on multiple forms. In Python, polymorphism can be achieved through method overloading and method overriding.\n",
    "\n",
    "4.Abstraction: Abstraction means representing complex real-world problems in a simplified way. In Python, abstraction can be achieved by using abstract classes and interfaces."
   ]
  },
  {
   "cell_type": "code",
   "execution_count": null,
   "id": "f6cc8aeb-d09c-456b-8778-6851ea8e4c3b",
   "metadata": {},
   "outputs": [],
   "source": []
  },
  {
   "cell_type": "markdown",
   "id": "baf47d7f-de34-4cfc-a2d1-7be02dfc8b36",
   "metadata": {},
   "source": [
    "### Q3. Explain why the __init__() function is used. Give a suitable example."
   ]
  },
  {
   "cell_type": "markdown",
   "id": "5a2a4261-3046-4b00-a814-6c6e8adaddfe",
   "metadata": {},
   "source": [
    "In Python, __init__() is a special method that is called when an object is created from a class. It is used to initialize the attributes of the object and perform any other setup that may be required.\n",
    "\n",
    "The __init__() method is usually the first method defined in a class, and it takes self as its first parameter, which refers to the object being created. Any other parameters can be added after self to allow for customization of the object.\n",
    "\n",
    "Here's an example:"
   ]
  },
  {
   "cell_type": "code",
   "execution_count": 9,
   "id": "6c172d2a-af2b-4bb6-99ff-e0cb58f996e2",
   "metadata": {},
   "outputs": [
    {
     "name": "stdout",
     "output_type": "stream",
     "text": [
      "TVS\n",
      "Apache\n",
      "2006\n"
     ]
    }
   ],
   "source": [
    "class Car:\n",
    "    def __init__(self, make, model, year):\n",
    "        self.make = make\n",
    "        self.model = model\n",
    "        self.year = year\n",
    "    \n",
    "    def get_make(self):\n",
    "        return self.make\n",
    "    \n",
    "    def get_model(self):\n",
    "        return self.model\n",
    "    \n",
    "    def get_year(self):\n",
    "        return self.year\n",
    "\n",
    "my_car = Car(\"TVS\", \"Apache\", 2006)\n",
    "print(my_car.get_make())\n",
    "print(my_car.get_model())\n",
    "print(my_car.get_year())"
   ]
  },
  {
   "cell_type": "markdown",
   "id": "01a83e24-0a28-4404-b7ef-d4797c023a87",
   "metadata": {},
   "source": [
    "In this example, the Car class has an __init__() method that takes make, model, and year as parameters to initialize the attributes of the car object. The get_make(), get_model(), and get_year() methods are used to retrieve the values of the attributes.\n",
    "\n",
    "When the my_car object is created, the __init__() method is automatically called with the specified arguments to initialize the attributes of the object. The get_make(), get_model(), and get_year() methods can then be used to retrieve the values of these attributes."
   ]
  },
  {
   "cell_type": "code",
   "execution_count": null,
   "id": "a2e3ec25-66cb-4505-983a-b1692d5aaa78",
   "metadata": {},
   "outputs": [],
   "source": []
  },
  {
   "cell_type": "markdown",
   "id": "4ad48451-50b5-4378-90c8-19dddcbd2787",
   "metadata": {},
   "source": [
    "### Q4. Why self is used in OOPs?"
   ]
  },
  {
   "cell_type": "markdown",
   "id": "84205081-4bea-40d9-beed-50d37a3b95c6",
   "metadata": {},
   "source": [
    "In object-oriented programming (OOP), self is a reference to the current instance of a class. It is used to access the attributes and methods of the current object.\n",
    "\n",
    "When a method is called on an object, the object itself is automatically passed as the first argument to the method, and this argument is named self by convention. This allows the method to access and modify the attributes of the object.\n",
    "\n",
    "For example, consider the following class:"
   ]
  },
  {
   "cell_type": "code",
   "execution_count": 10,
   "id": "c88bb36d-5d54-49b3-9e9e-1a3e1c2f4ed4",
   "metadata": {},
   "outputs": [
    {
     "name": "stdout",
     "output_type": "stream",
     "text": [
      "Hi ,my name is  Tortoise and i' am 30 years old.\n"
     ]
    }
   ],
   "source": [
    "class Person:\n",
    "    def __init__(self, name ,age):\n",
    "        self.name = name\n",
    "        self.age = age\n",
    "        \n",
    "    def introduce(self):\n",
    "        print(\"Hi ,my name is \",self.name , \"and i' am\", self.age, \"years old.\")\n",
    "        \n",
    "person1 = Person(\"Tortoise\", 30)\n",
    "person1.introduce() \n",
    "    "
   ]
  },
  {
   "cell_type": "markdown",
   "id": "8e1d41f5-84bb-4ffb-b6bd-445872ff956a",
   "metadata": {},
   "source": [
    "self is used in OOP to refer to the current instance of a class and to access and modify its attributes and methods."
   ]
  },
  {
   "cell_type": "code",
   "execution_count": null,
   "id": "e8fa02b5-4f1e-42df-9192-af08e7c20de4",
   "metadata": {},
   "outputs": [],
   "source": []
  },
  {
   "cell_type": "markdown",
   "id": "51c74dcf-b1a7-48bd-843a-e2afe947bfa7",
   "metadata": {},
   "source": [
    "### Q5. What is inheritance? Give an example for each type of inheritance."
   ]
  },
  {
   "cell_type": "markdown",
   "id": "f3f4b9a3-a0ec-41aa-9873-05692d2ded2e",
   "metadata": {},
   "source": [
    "Inheritance is a fundamental concept in object-oriented programming that allows a class to inherit properties and methods from another class. Inheritance helps to reduce code duplication, increase code reusability, and improve the overall structure of a program.\n",
    "\n",
    "There are five types of inheritance in object-oriented programming:\n",
    "\n",
    "1.Single inheritance: In single inheritance, a subclass inherits from a single superclass.\n",
    "Example: A \"Car\" class can inherit from a \"Vehicle\" class.\n",
    "\n",
    "2.Multiple inheritance: In multiple inheritance, a subclass inherits from multiple superclasses.\n",
    "Example: A \"FlyingCar\" class can inherit from both the \"Car\" and \"Plane\" classes.\n",
    "\n",
    "3.Multi-level inheritance: In multi-level inheritance, a subclass inherits from a superclass, which in turn, inherits from another superclass.\n",
    "Example: A \"SportsCar\" class can inherit from the \"Car\" class, which in turn, inherits from the \"Vehicle\" class.\n",
    "\n",
    "4.Hierarchical Inheritance: In hierarchical inheritance, multiple subclasses inherit from a single superclass.\n",
    "Example: A \"Sedan\" class, \"SUV\" class, and \"Hatchback\" class can inherit from the \"Car\" class.\n",
    "\n",
    "5.Hybrid inheritance: Hybrid inheritance is a combination of two or more types of inheritance.\n",
    "Example: A \"ElectricCar\" class can inherit from both \"Car\" and \"Battery\" classes using multiple inheritance, while also inheriting from the \"Vehicle\" class using single inheritance.\n",
    "\n",
    "Overall, inheritance provides a powerful mechanism to build complex class hierarchies and promote code reusability in object-oriented programming."
   ]
  },
  {
   "cell_type": "code",
   "execution_count": null,
   "id": "06f7d6bd-5920-442b-a282-af4f0e89f171",
   "metadata": {},
   "outputs": [],
   "source": []
  },
  {
   "cell_type": "code",
   "execution_count": null,
   "id": "04e7042e-d961-4f3e-a48b-d1f8f9e864dd",
   "metadata": {},
   "outputs": [],
   "source": [
    "# single inheritance  \n",
    "  \n",
    "#  create the base class or the Parent class  \n",
    "class Parent1:\n",
    "    def fun_1(self):\n",
    "        print(\"This functon is defined inside the parent class\")\n",
    "\n",
    "# create the Derived class  \n",
    "class child1(Parent1):\n",
    "    def fun_2(self):\n",
    "        print(\"This is defined inside the child class\")\n",
    "object = child1()\n",
    "object.fun_1()\n",
    "object.fun_2()\n"
   ]
  },
  {
   "cell_type": "code",
   "execution_count": 12,
   "id": "19a82bbd-0ce6-4cd1-a9e7-c3fd98818a61",
   "metadata": {},
   "outputs": [
    {
     "name": "stdout",
     "output_type": "stream",
     "text": [
      "Father name is :  abcd\n",
      "Mother name is :  efgh\n"
     ]
    }
   ],
   "source": [
    "# Multiple inheritance  \n",
    "  \n",
    "#  create the Base class 1  \n",
    "class Mother:\n",
    "    mother_name = \"\"\n",
    "    def mother(self):\n",
    "        print(self.mother_name)    \n",
    "    \n",
    "# create the Base class 2  \n",
    "class Father:\n",
    "    father_name = \"\"\n",
    "    def father(self):\n",
    "        print(self.father)\n",
    "\n",
    "# create the Derived class  \n",
    "class Son(Mother,Father):\n",
    "    def parent(self):\n",
    "        print(\"Father name is : \", self.father_name)\n",
    "        print(\"Mother name is : \", self.mother_name)\n",
    "      \n",
    " # Driver's code  \n",
    "s = Son()\n",
    "s.father_name = \"abcd\"\n",
    "s.mother_name = \"efgh\"\n",
    "s.parent()\n",
    "        "
   ]
  },
  {
   "cell_type": "code",
   "execution_count": 2,
   "id": "f88e9131-73df-4b1b-909d-828642b8abee",
   "metadata": {},
   "outputs": [
    {
     "name": "stdout",
     "output_type": "stream",
     "text": [
      "grandpaa\n",
      "grandfather name  grandpaa\n",
      "Father name : dad\n",
      "Son name:  son\n"
     ]
    }
   ],
   "source": [
    "# multilevel inheritance\n",
    "class Grandfather:\n",
    "    def __init__(self,grandfathername):\n",
    "        self.grandfathername = grandfathername\n",
    "        \n",
    "class Father(Grandfather):\n",
    "    def __init__(self, fathername, grandfathername):\n",
    "        self.fathername = fathername\n",
    "        \n",
    "        #invoking constructor of Grandfather class\n",
    "        Grandfather.__init__(self,grandfathername)\n",
    "\n",
    "class Son(Father):\n",
    "    def __init__(self, son_name, fathername, grandfathername):\n",
    "        self.son_name = son_name\n",
    "        #invoking the constructor of father class\n",
    "        Father.__init__(self, fathername, grandfathername)\n",
    "    \n",
    "    def print_name(self):\n",
    "        print(\"grandfather name \",self.grandfathername)\n",
    "        print(\"Father name :\" , self.fathername)\n",
    "        print(\"Son name: \",self.son_name)\n",
    "        \n",
    "s1 = Son('son', 'dad','grandpaa')\n",
    "print(s1.grandfathername)\n",
    "s1.print_name()"
   ]
  },
  {
   "cell_type": "code",
   "execution_count": 3,
   "id": "1db732a9-8096-4687-bdb5-d9692f6f7f0a",
   "metadata": {},
   "outputs": [
    {
     "name": "stdout",
     "output_type": "stream",
     "text": [
      "This function is in parent class.\n",
      "This function is in child 1.\n",
      "This function is in parent class.\n",
      "This function is in child 2.\n"
     ]
    }
   ],
   "source": [
    "# Hierarchical inheritance\n",
    "# Base class\n",
    "class Parent:\n",
    "\tdef func1(self):\n",
    "\t\tprint(\"This function is in parent class.\")\n",
    "\n",
    "# Derived class1\n",
    "class Child1(Parent):\n",
    "\tdef func2(self):\n",
    "\t\tprint(\"This function is in child 1.\")\n",
    "\n",
    "# Derivied class2\n",
    "class Child2(Parent):\n",
    "\tdef func3(self):\n",
    "\t\tprint(\"This function is in child 2.\")\n",
    "\n",
    "# Driver's code\n",
    "object1 = Child1()\n",
    "object2 = Child2()\n",
    "object1.func1()\n",
    "object1.func2()\n",
    "object2.func1()\n",
    "object2.func3()"
   ]
  },
  {
   "cell_type": "code",
   "execution_count": null,
   "id": "fca9c3d8-76d4-4be0-ba2c-a694baf405dc",
   "metadata": {},
   "outputs": [],
   "source": []
  }
 ],
 "metadata": {
  "kernelspec": {
   "display_name": "Python 3 (ipykernel)",
   "language": "python",
   "name": "python3"
  },
  "language_info": {
   "codemirror_mode": {
    "name": "ipython",
    "version": 3
   },
   "file_extension": ".py",
   "mimetype": "text/x-python",
   "name": "python",
   "nbconvert_exporter": "python",
   "pygments_lexer": "ipython3",
   "version": "3.10.8"
  }
 },
 "nbformat": 4,
 "nbformat_minor": 5
}
