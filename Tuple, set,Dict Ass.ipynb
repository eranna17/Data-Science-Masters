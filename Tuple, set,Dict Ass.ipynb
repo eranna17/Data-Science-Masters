{
 "cells": [
  {
   "cell_type": "markdown",
   "id": "8b4d725b-343e-4449-9898-bbbb2e20cc28",
   "metadata": {},
   "source": [
    "### Q1. What are the characteristics of the tuples? Is tuple immutable?\n",
    "\n",
    "Tuples are a type of data structure in Python that is used to store an ordered sequence of elements. The main characteristics of tuples are:\n",
    "\n",
    "Ordered: The elements in a tuple are ordered, meaning that they have a specific position or index in the tuple.\n",
    "\n",
    "Immutable: Tuples are immutable, which means that once a tuple is created, its contents cannot be modified. You can't add, remove or modify elements in a tuple.\n",
    "\n",
    "Heterogeneous: A tuple can contain elements of different data types, including numbers, strings, and other objects.\n",
    "\n",
    "Iterable: You can iterate over the elements of a tuple using a loop or other iterable functions.\n",
    "\n",
    "Yes, tuples are immutable in Python, which means that once a tuple is created, its contents cannot be modified. This is different from lists, which are mutable and allow for the addition, removal, and modification of elements. If you need a data structure that allows for modification of its elements, you should use a list instead of a tuple."
   ]
  },
  {
   "cell_type": "code",
   "execution_count": null,
   "id": "fd486f7d-e7ec-42ce-9da2-f8a56ec5169a",
   "metadata": {},
   "outputs": [],
   "source": []
  },
  {
   "cell_type": "markdown",
   "id": "98884f53-88dd-4e26-a95a-032091233282",
   "metadata": {},
   "source": [
    "### Q2. What are the two tuple methods in python? Give an example of each method. Give a reason why tuples have only two in-built methods as compared to Lists.\n",
    "\n",
    "\n",
    "In Python, there are two built-in methods for tuples:\n",
    "\n",
    "count(): This method returns the number of times a specified element appears in the tuple. The syntax for using this method is tuple.count(element). Here's an example:\n",
    "\n",
    "my_tuple = (1, 2, 3, 4, 3, 5, 3)\n",
    "count_3 = my_tuple.count(3)\n",
    "print(count_3) # Output: 3\n",
    "\n",
    "index(): This method returns the index of the first occurrence of a specified element in the tuple. The syntax for using this method is tuple.index(element). Here's an example:\n",
    "\n",
    "my_tuple = ('apple', 'banana', 'orange', 'grape')\n",
    "orange_index = my_tuple.index('orange')\n",
    "print(orange_index) # Output: 2\n",
    "\n",
    "The reason why tuples have only two in-built methods compared to lists is because tuples are designed to be immutable. Once a tuple is created, its elements cannot be changed. Since tuples are immutable, there is no need for methods that modify the contents of a tuple, such as append(), extend(), insert(), and remove(), which are available for lists. The two methods provided for tuples are sufficient for querying the contents of a tuple, which is the primary use case for this data structure.\n"
   ]
  },
  {
   "cell_type": "code",
   "execution_count": null,
   "id": "11377c1c-f43a-4dd6-bf7d-3f0ef6c876ed",
   "metadata": {},
   "outputs": [],
   "source": []
  },
  {
   "cell_type": "markdown",
   "id": "a7679864-c89b-4518-956e-256c1857a51c",
   "metadata": {},
   "source": [
    "### Q3. Which collection datatypes in python do not allow duplicate items? Write a code using a set to remove duplicates from the given list.\n",
    "\n",
    "In Python, the collection datatypes that do not allow duplicate items are:\n",
    "\n",
    "Sets: A set is an unordered collection of unique elements. Sets do not allow duplicate items, so any duplicates are automatically removed.\n",
    "\n",
    "Frozen sets: A frozen set is similar to a set, but it is immutable, meaning that its contents cannot be modified after it is created. Like sets, frozen sets also do not allow duplicate items.\n",
    "\n",
    "Here's an example code using a set to remove duplicates from a given list:\n",
    "\n",
    "list1 = [1, 1, 1, 2, 1, 3, 1, 4, 2, 1, 2, 2, 2, 3, 2, 4, 3, 1, 3, 2, 3, 3, 3, 4, 4, 1, 4, 2, 4, 3, 4, 4]\n",
    "\n",
    "unique_items = set(ist1)\n",
    "print(list(unique_items)) # Output: [1, 2, 3, 4]\n",
    "\n",
    "\n",
    "In this code, we create a list list1 that contains duplicate items. We then create a set unique_items using the set() constructor, which automatically removes any duplicate items from the list. Finally, we print the contents of unique_items to verify that the duplicates have been removed."
   ]
  },
  {
   "cell_type": "code",
   "execution_count": null,
   "id": "458d31cf-a9ac-4a03-a427-62d3b403a0b0",
   "metadata": {},
   "outputs": [],
   "source": []
  },
  {
   "cell_type": "markdown",
   "id": "5355ef10-5239-40cd-8e15-ed5acf098ae6",
   "metadata": {},
   "source": [
    "### Q4. Explain the difference between the union() and update() methods for a set. Give an example of\n",
    "each method.\n",
    "\n",
    "In Python, both union() and update() are methods used to combine two sets into a new set. However, there is a subtle difference between the two methods.\n",
    "\n",
    "The union() method returns a new set that contains all the unique elements from both sets. It does not modify either of the original sets. The syntax for using union() method is set1.union(set2). \n",
    "Here's an example\n",
    "set1 = {1, 2, 3}\n",
    "set2 = {3, 4, 5}\n",
    "set3 = set1.union(set2)\n",
    "print(set3) # Output: {1, 2, 3, 4, 5}\n",
    "In this example, we create two sets set1 and set2, and then we use the union() method to create a new set set3 that contains all the unique elements from both set1 and set2.\n",
    "\n",
    "On the other hand, the update() method modifies the original set by adding all the unique elements from another set to it. The syntax for using update() method is set1.update(set2). Here's an example:\n",
    "set1 = {1, 2, 3}\n",
    "set2 = {3, 4, 5}\n",
    "set1.update(set2)\n",
    "print(set1) # Output: {1, 2, 3, 4, 5}\n",
    "In this example, we have two sets set1 and set2, and then we use the update() method to add all the unique elements from set2 to set1. The original set set1 is modified and now contains all the unique elements from both sets.\n",
    "\n",
    "In summary, the union() method returns a new set that contains all the unique elements from both sets, while the update() method modifies the original set by adding all the unique elements from another set to it."
   ]
  },
  {
   "cell_type": "markdown",
   "id": "dfdab0e4-035d-41f4-a6c3-ae227e0e349f",
   "metadata": {},
   "source": [
    "### Q5.What is a dictionary? Give an example. Also, state whether a dictionary is ordered or unordered.\n",
    "In Python, a dictionary is an unordered collection of key-value pairs, where each key is unique and maps to a corresponding value. Dictionaries are also sometimes referred to as \"associative arrays\" or \"hash maps\".\n",
    "\n",
    "Here's an example of a dictionary:\n",
    "In Python, a dictionary is an unordered collection of key-value pairs, where each key is unique and maps to a corresponding value. Dictionaries are also sometimes referred to as \"associative arrays\" or \"hash maps\".\n",
    "\n",
    "Here's an example of a dictionary:\n",
    "\n",
    "student = {'name': 'John', 'age': 22, 'major': 'Computer Science'}\n",
    "\n",
    "In this example, we have a dictionary student that contains three key-value pairs. The keys are 'name', 'age', and 'major', and the corresponding values are 'John', 22, and 'Computer Science', respectively. We can access the values in the dictionary using the keys, like this:\n",
    "\n",
    "print(student['name']) # Output: John\n",
    "print(student['age']) # Output: 22\n",
    "print(student['major']) # Output: Computer Science\n",
    "\n",
    "We can also add, modify or delete key-value pairs from a dictionary using various dictionary methods.\n",
    "\n",
    "It's important to note that dictionaries in Python are unordered, meaning that the order of the key-value pairs in the dictionary is not guaranteed to be preserved. If you need to maintain the order of the key-value pairs, you can use a collections.OrderedDict instead of a regular dictionary."
   ]
  },
  {
   "cell_type": "code",
   "execution_count": null,
   "id": "efa5c08f-9f6e-4ff1-94b6-173c27fef669",
   "metadata": {},
   "outputs": [],
   "source": []
  },
  {
   "cell_type": "markdown",
   "id": "b4777a97-c535-4f1d-a449-4794e97c27cc",
   "metadata": {},
   "source": [
    "### Q6.Can we create a nested dictionary? If so, please give an example by creating a simple one-level nested dictionary.\n",
    "\n",
    "Yes, we can create a nested dictionary in Python. A nested dictionary is a dictionary that contains one or more dictionaries as values of its key-value pairs.\n",
    "\n",
    "Here's an example of a simple one-level nested dictionary:\n",
    "student = {'name': 'John', 'age': 22, 'courses': {'math': 85, 'english': 90, 'history': 80}}\n",
    "\n",
    "In this example, we have a dictionary student that contains three key-value pairs.\n",
    "The keys are 'name', 'age', and 'courses', and the corresponding values are 'John', 22, and {'math': 85, 'english': 90, 'history': 80}, respectively. \n",
    "The value of the 'courses' key is itself a dictionary that contains three key-value pairs, representing the grades that the student received in different courses.\n",
    "\n",
    "We can access the values in the nested dictionary using the keys of the outer and inner dictionaries, like this:\n",
    "print(student['name']) # Output: John\n",
    "print(student['courses']['math']) # Output: 85\n",
    "print(student['courses']['english']) # Output: 90\n",
    "print(student['courses']['history']) # Output: 80\n",
    "\n",
    "We can also add, modify or delete key-value pairs from the nested dictionary using various dictionary methods."
   ]
  },
  {
   "cell_type": "code",
   "execution_count": null,
   "id": "4f6278df-50f3-4b6f-8d8f-e92cb1d0a1ca",
   "metadata": {},
   "outputs": [],
   "source": []
  },
  {
   "cell_type": "markdown",
   "id": "a5f9f6d7-9223-43a3-aa5b-570cfda0ee70",
   "metadata": {},
   "source": [
    "### Q7. Using setdefault() method, create key named topics in the given dictionary and also add the value of the key as this list ['Python', 'Machine Learning’, 'Deep Learning']\n",
    "\n",
    "Here's an example of using the setdefault() method to create a key named 'topics' in the given dictionary and set its value to ['Python', 'Machine Learning', 'Deep Learning']:\n",
    "\n",
    "dict1 = {'language': 'Python', 'course': 'Data Science Masters'}\n",
    "\n",
    "dict1.setdefault('topics', ['Python', 'Machine Learning', 'Deep Learning'])\n",
    "\n",
    "print(dict1)\n",
    "\n",
    "\n",
    "#### output\n",
    "{'language': 'Python', 'course': 'Data Science Masters', 'topics': ['Python', 'Machine Learning', 'Deep Learning']}\n",
    "\n",
    "\n",
    "In this example, we first define a dictionary dict1 that contains two key-value pairs. Then, we use the setdefault() method to create a new key 'topics' in the dictionary and set its default value to ['Python', 'Machine Learning', 'Deep Learning']. Since the key 'topics' does not exist in the dictionary yet, the setdefault() method creates it and sets its value to the default value provided. Finally, we print the updated dictionary to verify that the new key and value have been added.\n"
   ]
  },
  {
   "cell_type": "code",
   "execution_count": null,
   "id": "4323d652-e09b-4874-aaaa-9b32dddd8e2a",
   "metadata": {},
   "outputs": [],
   "source": []
  },
  {
   "cell_type": "markdown",
   "id": "d9af05c5-a0c6-4903-b7f1-b8874030e170",
   "metadata": {},
   "source": [
    "### Q8. What are the three view objects in dictionaries? Use the three in-built methods in python to display these three view objects for the given dictionary. dict1 = {'Sport': 'Cricket' , 'Teams': ['India', 'Australia', 'England', 'South Africa', 'Sri Lanka', 'New Zealand']}\n",
    "\n",
    "The three view objects in dictionaries are:\n",
    "\n",
    "dict_keys: This view object contains the keys of the dictionary.\n",
    "dict_values: This view object contains the values of the dictionary.\n",
    "dict_items: This view object contains the key-value pairs of the dictionary as tuples.\n",
    "Here's an example of using the three in-built methods keys(), values(), and items() to display these three view objects for the given dictionary:\n",
    "\n",
    "dict1 = {'Sport': 'Cricket', 'Teams': ['India', 'Australia', 'England', 'South Africa', 'Sri Lanka', 'New Zealand']}\n",
    "\n",
    "#### Display dict_keys object\n",
    "print(dict1.keys())\n",
    "\n",
    "#### Display dict_values object\n",
    "print(dict1.values())\n",
    "\n",
    "#### Display dict_items object\n",
    "print(dict1.items())\n",
    "\n",
    "output\n",
    "dict_keys(['Sport', 'Teams'])\n",
    "dict_values(['Cricket', ['India', 'Australia', 'England', 'South Africa', 'Sri Lanka', 'New Zealand']])\n",
    "dict_items([('Sport', 'Cricket'), ('Teams', ['India', 'Australia', 'England', 'South Africa', 'Sri Lanka', 'New Zealand'])])\n",
    "\n",
    "In this example, we first define a dictionary dict1 that contains two key-value pairs. Then, we use the keys(), values(), and items() methods to display the dict_keys, dict_values, and dict_items view objects, respectively, for the given dictionary. Finally, we print the output to verify that the view objects have been created successfully."
   ]
  },
  {
   "cell_type": "code",
   "execution_count": null,
   "id": "c5a88446-9224-469b-8fc9-ec120ff3c3b6",
   "metadata": {},
   "outputs": [],
   "source": []
  },
  {
   "cell_type": "code",
   "execution_count": null,
   "id": "3668374a-bc4d-4123-8141-519f4d3a2397",
   "metadata": {},
   "outputs": [],
   "source": []
  }
 ],
 "metadata": {
  "kernelspec": {
   "display_name": "Python 3 (ipykernel)",
   "language": "python",
   "name": "python3"
  },
  "language_info": {
   "codemirror_mode": {
    "name": "ipython",
    "version": 3
   },
   "file_extension": ".py",
   "mimetype": "text/x-python",
   "name": "python",
   "nbconvert_exporter": "python",
   "pygments_lexer": "ipython3",
   "version": "3.10.8"
  }
 },
 "nbformat": 4,
 "nbformat_minor": 5
}
